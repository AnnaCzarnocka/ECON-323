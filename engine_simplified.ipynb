{
 "cells": [
  {
   "cell_type": "code",
   "execution_count": 1,
   "id": "d2a067d5-ad21-45ae-9bf5-d3d604cd11a2",
   "metadata": {
    "tags": []
   },
   "outputs": [],
   "source": [
    "from contextlib import contextmanager\n",
    "from csv import writer\n",
    "\n",
    "import numpy as np\n",
    "import pandas as pd\n",
    "import requests\n",
    "from bs4 import BeautifulSoup"
   ]
  },
  {
   "cell_type": "code",
   "execution_count": 2,
   "id": "bbe06cd1-a466-43ea-b675-be1b413fe8d1",
   "metadata": {
    "tags": []
   },
   "outputs": [],
   "source": [
    "engdf = pd.read_csv(\"engine.csv\")\n"
   ]
  },
  {
   "cell_type": "code",
   "execution_count": 3,
   "id": "c31f3c49-591a-4fe0-9bf9-57c4e2d37330",
   "metadata": {
    "tags": []
   },
   "outputs": [
    {
     "data": {
      "text/plain": [
       "0       Mercedes F1 M14 E Performance\n",
       "1       Mercedes F1 M12 E Performance\n",
       "2       Mercedes F1 M12 E Performance\n",
       "3       Mercedes F1 M12 E Performance\n",
       "4       Mercedes F1 M12 E Performance\n",
       "                    ...              \n",
       "4303                              NaN\n",
       "4304    Mercedes F1 M13 E Performance\n",
       "4305    Mercedes F1 M13 E Performance\n",
       "4306    Mercedes F1 M14 E Performance\n",
       "4307    Mercedes F1 M14 E Performance\n",
       "Name: ENGINE, Length: 4308, dtype: object"
      ]
     },
     "execution_count": 3,
     "metadata": {},
     "output_type": "execute_result"
    }
   ],
   "source": [
    "engdf.head()\n",
    "engdf.ENGINE"
   ]
  },
  {
   "cell_type": "code",
   "execution_count": 4,
   "id": "33f945ea-bb24-470b-9184-85346df8ca9b",
   "metadata": {
    "tags": []
   },
   "outputs": [],
   "source": [
    "def engine_simple(val):\n",
    "    val = str(val)\n",
    "    engine_simple = val.split()\n",
    "    val = engine_simple[0]\n",
    "    return val\n",
    "\n",
    "engdf.ENGINE = engdf.ENGINE.apply(engine_simple)\n",
    "engdf.ENGINE\n",
    "\n",
    "def redbull_checker(val):\n",
    "    if val == \"Honda\" or val == \"TAG\" or val == \"Red\":\n",
    "        val = \"RB\"\n",
    "    return val\n",
    "\n",
    "\n",
    "\n",
    "\n"
   ]
  },
  {
   "cell_type": "code",
   "execution_count": 9,
   "id": "12bdbc69-2e12-4dc5-96b1-3afa27df83b6",
   "metadata": {
    "tags": []
   },
   "outputs": [],
   "source": [
    "engdf.ENGINE = engdf.ENGINE.apply(redbull_checker)\n",
    "\n",
    "engdf.ENGINE.unique()\n",
    "\n",
    "\n",
    "engine_dummies = pd.get_dummies(engdf.ENGINE)\n",
    "\n",
    "engdf = pd.concat([engdf, engine_dummies], axis=1)\n",
    "\n",
    "engdf..drop(columns=['B', 'C'])\n",
    "#print(engdf2)"
   ]
  },
  {
   "cell_type": "code",
   "execution_count": 14,
   "id": "2949c8af-0f42-43f7-adb6-88f272266256",
   "metadata": {
    "tags": []
   },
   "outputs": [
    {
     "name": "stdout",
     "output_type": "stream",
     "text": [
      "['Hello', 'World']\n"
     ]
    }
   ],
   "source": [
    "x = \"Hello World\"\n",
    "print(x.split())"
   ]
  },
  {
   "cell_type": "code",
   "execution_count": null,
   "id": "ad741ca9-f768-46b4-a30f-7c480ac7b736",
   "metadata": {},
   "outputs": [],
   "source": [
    "def dummy_engine(df):\n",
    "    val = df.ENGINE.values()\n",
    "    if val == \"Mercedes\":\n",
    "        engdf[f\"{val} Dummy\"] = 1\n",
    "    elif val == \"RB\":\n",
    "        engdf[f\"{val} Dummy\"] = 1\n",
    "    elif val == \"Renault\":\n",
    "        engdf[f\"{val} Dummy\"] = 1\n",
    "    elif val == \"Ferrari\":\n",
    "        engdf[f\"{val} Dummy\"] = 1\n",
    "    return df\n",
    "    "
   ]
  }
 ],
 "metadata": {
  "kernelspec": {
   "display_name": "Python 3 (ipykernel)",
   "language": "python",
   "name": "python3"
  },
  "language_info": {
   "codemirror_mode": {
    "name": "ipython",
    "version": 3
   },
   "file_extension": ".py",
   "mimetype": "text/x-python",
   "name": "python",
   "nbconvert_exporter": "python",
   "pygments_lexer": "ipython3",
   "version": "3.10.8"
  }
 },
 "nbformat": 4,
 "nbformat_minor": 5
}
